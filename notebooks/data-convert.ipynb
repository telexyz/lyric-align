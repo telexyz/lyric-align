{
  "nbformat": 4,
  "nbformat_minor": 0,
  "metadata": {
    "colab": {
      "provenance": [],
      "collapsed_sections": []
    },
    "kernelspec": {
      "name": "python3",
      "display_name": "Python 3"
    },
    "language_info": {
      "name": "python"
    }
  },
  "cells": [
    {
      "cell_type": "code",
      "execution_count": null,
      "metadata": {
        "id": "y32h4QXk74FQ"
      },
      "outputs": [],
      "source": [
        "# chạy 1 lần để khởi tạo\n",
        "!git clone https://github.com/telexyz/lyric-align.git\n",
        "%cd lyric-align\n",
        "!git pull && pip3 install -r requirements.txt\n",
        "!apt install ffmpeg sox\n",
        "!pip3 install spleeter g2p_en"
      ]
    },
    {
      "cell_type": "markdown",
      "source": [
        "# Lọc vocal"
      ],
      "metadata": {
        "id": "VQ7E9eYzQdlO"
      }
    },
    {
      "cell_type": "code",
      "source": [
        "from IPython.display import Audio\n",
        "Audio('data/songs/38303033365f30.wav')"
      ],
      "metadata": {
        "id": "zf-MGfSTCFve"
      },
      "execution_count": null,
      "outputs": []
    },
    {
      "cell_type": "code",
      "source": [
        "# !spleeter separate -o data/songs data/songs/38303033365f30.wav\n",
        "# convert from 44100hz, 32-bit, stereo to 22050, mono\n",
        "!sox data/songs/38303033365f30/vocals.wav -r 22050 -c 1 data/songs/38303033365f30_vocals.wav\n",
        "!ls -ln data/songs/38303033365f30*\n",
        "Audio('data/songs/38303033365f30_vocals.wav')"
      ],
      "metadata": {
        "id": "ndWU8vxKCcZg"
      },
      "execution_count": null,
      "outputs": []
    },
    {
      "cell_type": "markdown",
      "source": [
        "# Mel-spectrogram"
      ],
      "metadata": {
        "id": "lJS4SRmbQU0Q"
      }
    },
    {
      "cell_type": "code",
      "source": [
        "from model import train_audio_transforms\n",
        "from utils import load\n",
        "waveform = load(\"data/songs/38303033365f30_vocals.wav\")\n",
        "waveform = waveform[0]\n",
        "waveform.shape"
      ],
      "metadata": {
        "colab": {
          "base_uri": "https://localhost:8080/"
        },
        "id": "vxIBx-R6GVX3",
        "outputId": "781f78bf-9abf-4a95-8acd-68f2958d5a73"
      },
      "execution_count": 20,
      "outputs": [
        {
          "output_type": "execute_result",
          "data": {
            "text/plain": [
              "(1, 925350)"
            ]
          },
          "metadata": {},
          "execution_count": 20
        }
      ]
    },
    {
      "cell_type": "code",
      "source": [
        "import torch\n",
        "input = torch.Tensor(waveform)\n",
        "spec = train_audio_transforms(input).squeeze(0).transpose(0, 1)\n",
        "print(spec.shape)"
      ],
      "metadata": {
        "colab": {
          "base_uri": "https://localhost:8080/"
        },
        "id": "PruCEfFpJygz",
        "outputId": "9215d778-6390-41f4-f337-342f36dd71ad"
      },
      "execution_count": 21,
      "outputs": [
        {
          "output_type": "stream",
          "name": "stdout",
          "text": [
            "torch.Size([3615, 128])\n"
          ]
        }
      ]
    },
    {
      "cell_type": "code",
      "source": [
        "# Hiện hình ảnh spectrogram\n",
        "%matplotlib inline\n",
        "import IPython\n",
        "import matplotlib\n",
        "import matplotlib.pyplot as plt\n",
        "import numpy as np\n",
        "# ... làm tiếp để plot `spec` ..."
      ],
      "metadata": {
        "id": "2RYTpOttKsct"
      },
      "execution_count": null,
      "outputs": []
    },
    {
      "cell_type": "markdown",
      "source": [
        "# Phoneneme"
      ],
      "metadata": {
        "id": "BKXNSZ22QPpm"
      }
    },
    {
      "cell_type": "code",
      "source": [
        "# English\n",
        "#!pip3 install g2p_en\n",
        "from g2p_en import G2p\n",
        "g2p_en = G2p()\n",
        "en_txt = \"it's a wonderful world\"\n",
        "print(en_txt, \"\\n\", g2p_en(en_txt), \"\\n\")\n",
        "\n",
        "# Vietnamese\n",
        "def g2p_vi(txt):\n",
        "    return list(txt)\n",
        "\n",
        "import re\n",
        "json = open(\"data/songs/38303033365f30.json\", \"r\").read().lower()\n",
        "matches = re.findall('{\"d\": \".+?\"', json)\n",
        "txt = \" \".join([x[7:-1] for x in matches])\n",
        "print(txt, \"\\n\", g2p_vi(txt))"
      ],
      "metadata": {
        "id": "IfVKdJyvRwxC",
        "colab": {
          "base_uri": "https://localhost:8080/"
        },
        "outputId": "63ae66f0-42c9-437d-f2ab-8699e88054c4"
      },
      "execution_count": 12,
      "outputs": [
        {
          "output_type": "stream",
          "name": "stdout",
          "text": [
            "it's a wonderful world \n",
            " ['IH1', 'T', 'S', ' ', 'AH0', ' ', 'W', 'AH1', 'N', 'D', 'ER0', 'F', 'AH0', 'L', ' ', 'W', 'ER1', 'L', 'D'] \n",
            "\n",
            "còn lại gì bên anh đây giờ thì ta đã xa nhau trong tầm tay còn lại gì người ơi khi mây đen bay về mịt mờ che lối còn lại gì bên anh đây khi người đã xa xa thật rồi nếu mai đây đời ta \n",
            " ['c', 'ò', 'n', ' ', 'l', 'ạ', 'i', ' ', 'g', 'ì', ' ', 'b', 'ê', 'n', ' ', 'a', 'n', 'h', ' ', 'đ', 'â', 'y', ' ', 'g', 'i', 'ờ', ' ', 't', 'h', 'ì', ' ', 't', 'a', ' ', 'đ', 'ã', ' ', 'x', 'a', ' ', 'n', 'h', 'a', 'u', ' ', 't', 'r', 'o', 'n', 'g', ' ', 't', 'ầ', 'm', ' ', 't', 'a', 'y', ' ', 'c', 'ò', 'n', ' ', 'l', 'ạ', 'i', ' ', 'g', 'ì', ' ', 'n', 'g', 'ư', 'ờ', 'i', ' ', 'ơ', 'i', ' ', 'k', 'h', 'i', ' ', 'm', 'â', 'y', ' ', 'đ', 'e', 'n', ' ', 'b', 'a', 'y', ' ', 'v', 'ề', ' ', 'm', 'ị', 't', ' ', 'm', 'ờ', ' ', 'c', 'h', 'e', ' ', 'l', 'ố', 'i', ' ', 'c', 'ò', 'n', ' ', 'l', 'ạ', 'i', ' ', 'g', 'ì', ' ', 'b', 'ê', 'n', ' ', 'a', 'n', 'h', ' ', 'đ', 'â', 'y', ' ', 'k', 'h', 'i', ' ', 'n', 'g', 'ư', 'ờ', 'i', ' ', 'đ', 'ã', ' ', 'x', 'a', ' ', 'x', 'a', ' ', 't', 'h', 'ậ', 't', ' ', 'r', 'ồ', 'i', ' ', 'n', 'ế', 'u', ' ', 'm', 'a', 'i', ' ', 'đ', 'â', 'y', ' ', 'đ', 'ờ', 'i', ' ', 't', 'a']\n"
          ]
        }
      ]
    },
    {
      "cell_type": "markdown",
      "source": [
        "Note: `gp2_vi` sử dụng cách đơn giản nhất là tách word thành chars như ở đây https://huggingface.co/nguyenvulebinh/wav2vec2-base-vietnamese-250h/blob/main/vocab.json"
      ],
      "metadata": {
        "id": "COJgzdYSXPgv"
      }
    }
  ]
}