{
 "cells": [
  {
   "cell_type": "code",
   "execution_count": null,
   "id": "38cea2f4",
   "metadata": {},
   "outputs": [],
   "source": [
    "from wrapper import align, preprocess_from_file, write_csv"
   ]
  },
  {
   "cell_type": "code",
   "execution_count": null,
   "id": "79a7b3f5",
   "metadata": {},
   "outputs": [],
   "source": [
    "audio_file = \"/path/to/separated/vocals\"   # pre-computed source-separated vocals; These models do not work with mixture input.\n",
    "lyrics_file = \"/path/to/raw/lyrics/file\"   # example: jamendolyrics/lyrics/*.raw.txt\"\n",
    "word_file = \"/path/to/word/lyrics/file\"    # example: jamendolyrics/lyrics/*.words.txt\"; Set to None if you don't have it\n",
    "method = \"MTL\"                             # \"Baseline\", \"MTL\", \"Baseline_BDR\", \"MTL_BDR\"\n",
    "cuda=False                                 # set True if you have access to a GPU\n",
    "\n",
    "pred_file = \"./MTL.csv\"                    # saved alignment results, \"(float) start_time, (float) end_time, (string) word\""
   ]
  },
  {
   "cell_type": "code",
   "execution_count": null,
   "id": "76dce749",
   "metadata": {},
   "outputs": [],
   "source": [
    "# load audio and lyrics\n",
    "# words:        a list of words\n",
    "# lyrics_p:     phoneme sequence of the target lyrics\n",
    "# idx_word_p:   indices of word start in lyrics_p\n",
    "# idx_line_p:   indices of line start in lyrics_p\n",
    "audio, words, lyrics_p, idx_word_p, idx_line_p = preprocess_from_file(audio_file, lyrics_file, word_file)"
   ]
  },
  {
   "cell_type": "code",
   "execution_count": null,
   "id": "be35622f",
   "metadata": {},
   "outputs": [],
   "source": [
    "# compute alignment\n",
    "# word_align:   a list of frame indices aligned to each word\n",
    "# words:        a list of words\n",
    "word_align, words = align(audio, words, lyrics_p, idx_word_p, idx_line_p, method=method, cuda=False)"
   ]
  },
  {
   "cell_type": "code",
   "execution_count": null,
   "id": "49cbd444",
   "metadata": {},
   "outputs": [],
   "source": [
    "# write to csv\n",
    "# can be imported to Sonic Visualiser\n",
    "write_csv(pred_file, word_align, words)"
   ]
  }
 ],
 "metadata": {
  "kernelspec": {
   "display_name": "Python 3 (ipykernel)",
   "language": "python",
   "name": "python3"
  },
  "language_info": {
   "codemirror_mode": {
    "name": "ipython",
    "version": 3
   },
   "file_extension": ".py",
   "mimetype": "text/x-python",
   "name": "python",
   "nbconvert_exporter": "python",
   "pygments_lexer": "ipython3",
   "version": "3.7.11"
  }
 },
 "nbformat": 4,
 "nbformat_minor": 5
}
