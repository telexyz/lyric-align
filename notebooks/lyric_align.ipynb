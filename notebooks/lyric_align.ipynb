{
  "nbformat": 4,
  "nbformat_minor": 0,
  "metadata": {
    "colab": {
      "provenance": [],
      "collapsed_sections": []
    },
    "kernelspec": {
      "name": "python3",
      "display_name": "Python 3"
    },
    "language_info": {
      "name": "python"
    },
    "accelerator": "GPU",
    "gpuClass": "standard"
  },
  "cells": [
    {
      "cell_type": "markdown",
      "source": [
        "# chạy một lần để khởi tạo môi trường"
      ],
      "metadata": {
        "id": "SFe4tqQdM1L6"
      }
    },
    {
      "cell_type": "code",
      "execution_count": 2,
      "metadata": {
        "id": "y32h4QXk74FQ",
        "colab": {
          "base_uri": "https://localhost:8080/"
        },
        "outputId": "d4e99fc8-2ecc-4e10-b1b0-e5614f63c3f3"
      },
      "outputs": [
        {
          "output_type": "stream",
          "name": "stdout",
          "text": [
            "Cloning into 'lyric-align'...\n",
            "remote: Enumerating objects: 3812, done.\u001b[K\n",
            "remote: Counting objects: 100% (144/144), done.\u001b[K\n",
            "remote: Compressing objects: 100% (118/118), done.\u001b[K\n",
            "remote: Total 3812 (delta 50), reused 118 (delta 26), pack-reused 3668\u001b[K\n",
            "Receiving objects: 100% (3812/3812), 101.81 MiB | 37.87 MiB/s, done.\n",
            "Resolving deltas: 100% (53/53), done.\n",
            "/content/lyric-align\n",
            "Looking in indexes: https://pypi.org/simple, https://us-python.pkg.dev/colab-wheels/public/simple/\n",
            "Requirement already satisfied: future in /usr/local/lib/python3.7/dist-packages (from -r requirements.txt (line 1)) (0.16.0)\n",
            "Requirement already satisfied: numpy in /usr/local/lib/python3.7/dist-packages (from -r requirements.txt (line 2)) (1.21.6)\n",
            "Requirement already satisfied: librosa in /usr/local/lib/python3.7/dist-packages (from -r requirements.txt (line 3)) (0.8.1)\n",
            "Requirement already satisfied: soundfile in /usr/local/lib/python3.7/dist-packages (from -r requirements.txt (line 4)) (0.11.0)\n",
            "Requirement already satisfied: tqdm in /usr/local/lib/python3.7/dist-packages (from -r requirements.txt (line 5)) (4.64.1)\n",
            "Requirement already satisfied: torch in /usr/local/lib/python3.7/dist-packages (from -r requirements.txt (line 6)) (1.12.1+cu113)\n",
            "Requirement already satisfied: torchaudio in /usr/local/lib/python3.7/dist-packages (from -r requirements.txt (line 7)) (0.12.1+cu113)\n",
            "Requirement already satisfied: tensorboard in /usr/local/lib/python3.7/dist-packages (from -r requirements.txt (line 8)) (2.9.1)\n",
            "Collecting g2p_en\n",
            "  Downloading g2p_en-2.1.0-py3-none-any.whl (3.1 MB)\n",
            "\u001b[K     |████████████████████████████████| 3.1 MB 5.0 MB/s \n",
            "\u001b[?25hRequirement already satisfied: audioread>=2.0.0 in /usr/local/lib/python3.7/dist-packages (from librosa->-r requirements.txt (line 3)) (3.0.0)\n",
            "Requirement already satisfied: decorator>=3.0.0 in /usr/local/lib/python3.7/dist-packages (from librosa->-r requirements.txt (line 3)) (4.4.2)\n",
            "Requirement already satisfied: numba>=0.43.0 in /usr/local/lib/python3.7/dist-packages (from librosa->-r requirements.txt (line 3)) (0.56.4)\n",
            "Requirement already satisfied: scipy>=1.0.0 in /usr/local/lib/python3.7/dist-packages (from librosa->-r requirements.txt (line 3)) (1.7.3)\n",
            "Requirement already satisfied: packaging>=20.0 in /usr/local/lib/python3.7/dist-packages (from librosa->-r requirements.txt (line 3)) (21.3)\n",
            "Requirement already satisfied: resampy>=0.2.2 in /usr/local/lib/python3.7/dist-packages (from librosa->-r requirements.txt (line 3)) (0.4.2)\n",
            "Requirement already satisfied: scikit-learn!=0.19.0,>=0.14.0 in /usr/local/lib/python3.7/dist-packages (from librosa->-r requirements.txt (line 3)) (1.0.2)\n",
            "Requirement already satisfied: joblib>=0.14 in /usr/local/lib/python3.7/dist-packages (from librosa->-r requirements.txt (line 3)) (1.2.0)\n",
            "Requirement already satisfied: pooch>=1.0 in /usr/local/lib/python3.7/dist-packages (from librosa->-r requirements.txt (line 3)) (1.6.0)\n",
            "Requirement already satisfied: cffi>=1.0 in /usr/local/lib/python3.7/dist-packages (from soundfile->-r requirements.txt (line 4)) (1.15.1)\n",
            "Requirement already satisfied: pycparser in /usr/local/lib/python3.7/dist-packages (from cffi>=1.0->soundfile->-r requirements.txt (line 4)) (2.21)\n",
            "Requirement already satisfied: setuptools in /usr/local/lib/python3.7/dist-packages (from numba>=0.43.0->librosa->-r requirements.txt (line 3)) (57.4.0)\n",
            "Requirement already satisfied: llvmlite<0.40,>=0.39.0dev0 in /usr/local/lib/python3.7/dist-packages (from numba>=0.43.0->librosa->-r requirements.txt (line 3)) (0.39.1)\n",
            "Requirement already satisfied: importlib-metadata in /usr/local/lib/python3.7/dist-packages (from numba>=0.43.0->librosa->-r requirements.txt (line 3)) (4.13.0)\n",
            "Requirement already satisfied: pyparsing!=3.0.5,>=2.0.2 in /usr/local/lib/python3.7/dist-packages (from packaging>=20.0->librosa->-r requirements.txt (line 3)) (3.0.9)\n",
            "Requirement already satisfied: appdirs>=1.3.0 in /usr/local/lib/python3.7/dist-packages (from pooch>=1.0->librosa->-r requirements.txt (line 3)) (1.4.4)\n",
            "Requirement already satisfied: requests>=2.19.0 in /usr/local/lib/python3.7/dist-packages (from pooch>=1.0->librosa->-r requirements.txt (line 3)) (2.23.0)\n",
            "Requirement already satisfied: chardet<4,>=3.0.2 in /usr/local/lib/python3.7/dist-packages (from requests>=2.19.0->pooch>=1.0->librosa->-r requirements.txt (line 3)) (3.0.4)\n",
            "Requirement already satisfied: certifi>=2017.4.17 in /usr/local/lib/python3.7/dist-packages (from requests>=2.19.0->pooch>=1.0->librosa->-r requirements.txt (line 3)) (2022.9.24)\n",
            "Requirement already satisfied: idna<3,>=2.5 in /usr/local/lib/python3.7/dist-packages (from requests>=2.19.0->pooch>=1.0->librosa->-r requirements.txt (line 3)) (2.10)\n",
            "Requirement already satisfied: urllib3!=1.25.0,!=1.25.1,<1.26,>=1.21.1 in /usr/local/lib/python3.7/dist-packages (from requests>=2.19.0->pooch>=1.0->librosa->-r requirements.txt (line 3)) (1.24.3)\n",
            "Requirement already satisfied: threadpoolctl>=2.0.0 in /usr/local/lib/python3.7/dist-packages (from scikit-learn!=0.19.0,>=0.14.0->librosa->-r requirements.txt (line 3)) (3.1.0)\n",
            "Requirement already satisfied: typing-extensions in /usr/local/lib/python3.7/dist-packages (from torch->-r requirements.txt (line 6)) (4.1.1)\n",
            "Requirement already satisfied: werkzeug>=1.0.1 in /usr/local/lib/python3.7/dist-packages (from tensorboard->-r requirements.txt (line 8)) (1.0.1)\n",
            "Requirement already satisfied: google-auth<3,>=1.6.3 in /usr/local/lib/python3.7/dist-packages (from tensorboard->-r requirements.txt (line 8)) (1.35.0)\n",
            "Requirement already satisfied: markdown>=2.6.8 in /usr/local/lib/python3.7/dist-packages (from tensorboard->-r requirements.txt (line 8)) (3.4.1)\n",
            "Requirement already satisfied: wheel>=0.26 in /usr/local/lib/python3.7/dist-packages (from tensorboard->-r requirements.txt (line 8)) (0.38.1)\n",
            "Requirement already satisfied: tensorboard-data-server<0.7.0,>=0.6.0 in /usr/local/lib/python3.7/dist-packages (from tensorboard->-r requirements.txt (line 8)) (0.6.1)\n",
            "Requirement already satisfied: google-auth-oauthlib<0.5,>=0.4.1 in /usr/local/lib/python3.7/dist-packages (from tensorboard->-r requirements.txt (line 8)) (0.4.6)\n",
            "Requirement already satisfied: protobuf<3.20,>=3.9.2 in /usr/local/lib/python3.7/dist-packages (from tensorboard->-r requirements.txt (line 8)) (3.17.3)\n",
            "Requirement already satisfied: grpcio>=1.24.3 in /usr/local/lib/python3.7/dist-packages (from tensorboard->-r requirements.txt (line 8)) (1.50.0)\n",
            "Requirement already satisfied: tensorboard-plugin-wit>=1.6.0 in /usr/local/lib/python3.7/dist-packages (from tensorboard->-r requirements.txt (line 8)) (1.8.1)\n",
            "Requirement already satisfied: absl-py>=0.4 in /usr/local/lib/python3.7/dist-packages (from tensorboard->-r requirements.txt (line 8)) (1.3.0)\n",
            "Requirement already satisfied: six>=1.9.0 in /usr/local/lib/python3.7/dist-packages (from google-auth<3,>=1.6.3->tensorboard->-r requirements.txt (line 8)) (1.15.0)\n",
            "Requirement already satisfied: pyasn1-modules>=0.2.1 in /usr/local/lib/python3.7/dist-packages (from google-auth<3,>=1.6.3->tensorboard->-r requirements.txt (line 8)) (0.2.8)\n",
            "Requirement already satisfied: rsa<5,>=3.1.4 in /usr/local/lib/python3.7/dist-packages (from google-auth<3,>=1.6.3->tensorboard->-r requirements.txt (line 8)) (4.9)\n",
            "Requirement already satisfied: cachetools<5.0,>=2.0.0 in /usr/local/lib/python3.7/dist-packages (from google-auth<3,>=1.6.3->tensorboard->-r requirements.txt (line 8)) (4.2.4)\n",
            "Requirement already satisfied: requests-oauthlib>=0.7.0 in /usr/local/lib/python3.7/dist-packages (from google-auth-oauthlib<0.5,>=0.4.1->tensorboard->-r requirements.txt (line 8)) (1.3.1)\n",
            "Requirement already satisfied: zipp>=0.5 in /usr/local/lib/python3.7/dist-packages (from importlib-metadata->numba>=0.43.0->librosa->-r requirements.txt (line 3)) (3.10.0)\n",
            "Requirement already satisfied: pyasn1<0.5.0,>=0.4.6 in /usr/local/lib/python3.7/dist-packages (from pyasn1-modules>=0.2.1->google-auth<3,>=1.6.3->tensorboard->-r requirements.txt (line 8)) (0.4.8)\n",
            "Requirement already satisfied: oauthlib>=3.0.0 in /usr/local/lib/python3.7/dist-packages (from requests-oauthlib>=0.7.0->google-auth-oauthlib<0.5,>=0.4.1->tensorboard->-r requirements.txt (line 8)) (3.2.2)\n",
            "Requirement already satisfied: nltk>=3.2.4 in /usr/local/lib/python3.7/dist-packages (from g2p_en->-r requirements.txt (line 9)) (3.7)\n",
            "Requirement already satisfied: inflect>=0.3.1 in /usr/local/lib/python3.7/dist-packages (from g2p_en->-r requirements.txt (line 9)) (2.1.0)\n",
            "Collecting distance>=0.1.3\n",
            "  Downloading Distance-0.1.3.tar.gz (180 kB)\n",
            "\u001b[K     |████████████████████████████████| 180 kB 64.3 MB/s \n",
            "\u001b[?25hRequirement already satisfied: regex>=2021.8.3 in /usr/local/lib/python3.7/dist-packages (from nltk>=3.2.4->g2p_en->-r requirements.txt (line 9)) (2022.6.2)\n",
            "Requirement already satisfied: click in /usr/local/lib/python3.7/dist-packages (from nltk>=3.2.4->g2p_en->-r requirements.txt (line 9)) (7.1.2)\n",
            "Building wheels for collected packages: distance\n",
            "  Building wheel for distance (setup.py) ... \u001b[?25l\u001b[?25hdone\n",
            "  Created wheel for distance: filename=Distance-0.1.3-py3-none-any.whl size=16289 sha256=8217a54096fe8489754862e2e95650501659ad96431d050d19d397b693570e26\n",
            "  Stored in directory: /root/.cache/pip/wheels/b2/10/1b/96fca621a1be378e2fe104cfb0d160bb6cdf3d04a3d35266cc\n",
            "Successfully built distance\n",
            "Installing collected packages: distance, g2p-en\n",
            "Successfully installed distance-0.1.3 g2p-en-2.1.0\n"
          ]
        }
      ],
      "source": [
        "!git clone https://github.com/telexyz/lyric-align.git\n",
        "%cd lyric-align\n",
        "!pip install -r requirements.txt\n",
        "# !apt install ffmpeg lame sox"
      ]
    },
    {
      "cell_type": "markdown",
      "source": [
        "\n",
        "\n",
        "# Load Vietnamese Songs Datasets\n"
      ],
      "metadata": {
        "id": "VQ7E9eYzQdlO"
      }
    },
    {
      "cell_type": "code",
      "source": [
        "# !git pull\n",
        "from data import SongsDataset\n",
        "val_data = SongsDataset(\"validate\")\n",
        "print(val_data[0])\n",
        "len(val_data)"
      ],
      "metadata": {
        "colab": {
          "base_uri": "https://localhost:8080/"
        },
        "id": "Ra-nzuoNQYX2",
        "outputId": "41c09b61-0306-4ce4-a906-d9be61fd7756"
      },
      "execution_count": 3,
      "outputs": [
        {
          "output_type": "stream",
          "name": "stderr",
          "text": [
            "[nltk_data] Downloading package averaged_perceptron_tagger to\n",
            "[nltk_data]     /root/nltk_data...\n",
            "[nltk_data]   Unzipping taggers/averaged_perceptron_tagger.zip.\n",
            "[nltk_data] Downloading package cmudict to /root/nltk_data...\n",
            "[nltk_data]   Unzipping corpora/cmudict.zip.\n"
          ]
        },
        {
          "output_type": "stream",
          "name": "stdout",
          "text": [
            "(array([[ 0.0000000e+00, -3.0517578e-05,  0.0000000e+00, ...,\n",
            "        -6.1035156e-05,  1.2207031e-04, -1.5258789e-04]], dtype=float32), None, None, array([ 34,  27,  35,   0,  29,  41,  40,   0,  46,  34,  88,  40,   0,\n",
            "        38,  88,  40,   0,  29,  41,  40,   0,  71,  67,  27,   0,  40,\n",
            "        34,  27,  47,   0,  29,  87,  40,   0,  40,  34,  27,  47,   0,\n",
            "        71, 116,  46,   0,  71,  47,  65,  35,   0,  29,  34,  27,   0,\n",
            "        46,  34,  88,  40,   0,  38,  88,  40,   0,  28,  47, 105,  40,\n",
            "         0,  46,  34,  35,  47,   0,  33, 102,  35,   0,  29,  34,  68,\n",
            "        40,  33,   0,  71,  95,  40,   0,  39, 109,  35,   0,  39,  87,\n",
            "        40,  33,   0,  29,  34,  41]), None)\n"
          ]
        },
        {
          "output_type": "execute_result",
          "data": {
            "text/plain": [
              "120"
            ]
          },
          "metadata": {},
          "execution_count": 3
        }
      ]
    },
    {
      "cell_type": "code",
      "source": [
        "train_data = SongsDataset(\"train\")\n",
        "print(train_data[0])\n",
        "len(train_data)"
      ],
      "metadata": {
        "colab": {
          "base_uri": "https://localhost:8080/"
        },
        "id": "m0pEL3c7Zpnl",
        "outputId": "bfeb06cb-6dd7-4a11-b4ff-4b7aebc3cb01"
      },
      "execution_count": 3,
      "outputs": [
        {
          "output_type": "stream",
          "name": "stdout",
          "text": [
            "(array([[ 0.0000000e+00, -3.0517578e-05,  0.0000000e+00, ...,\n",
            "        -5.1879883e-04,  1.8310547e-04,  2.1362305e-04]], dtype=float32), None, None, ['n', 'g', 'ư', 'ờ', 'i', ' ', 'ở', ' ', 'đ', 'ó', ' ', 'a', 'n', 'h', ' ', 'ở', ' ', 'đ', 'â', 'y', ' ', 'm', 'à', ' ', 's', 'a', 'o', ' ', 't', 'r', 'á', 'i', ' ', 't', 'i', 'm', ' ', 'a', 'n', 'h', ' ', 'l', 'ạ', 'n', 'h', ' ', 'q', 'u', 'á', ' ', 'c', 'ũ', 'n', 'g', ' ', 'c', 'h', 'ỉ', ' ', 'l', 'à', ' ', 'd', 'o', ' ', 'k', 'h', 'o', 'ả', 'n', 'g', ' ', 'c', 'á', 'c', 'h', ' ', 'k', 'h', 'i', 'ế', 'n', ' ', 't', 'a', ' ', 'v', 'ô', ' ', 't', 'ì', 'n', 'h', ' ', 'l', 'ạ', 'c', ' ', 'm', 'ấ', 't', ' ', 'n', 'h', 'a', 'u', ' ', 'y', 'ê', 'u', ' ', 'x', 'a', ' ', 'k', 'h', 'ó', ' ', 'l', 'ắ', 'm', ' ', 'n', 'h', 'ớ', ' ', 't', 'h', 'ư', 'ơ', 'n', 'g', ' ', 'm', 'à', ' ', 'l', 'à', 'm', ' ', 't', 'r', 'á', 'i', ' ', 't', 'i', 'm', ' ', 'đ', 'a', 'u', ' ', 'm', 'ì', 'n', 'h', ' ', 'đ', 'ã', ' ', 'h', 'ứ', 'a', ' ', 's', 'ẽ', ' ', 'c', 'ù', 'n', 'g', ' ', 'đ', 'i', ' ', 't', 'r', 'ê', 'n', ' ', 'đ', 'ư', 'ờ', 'n', 'g', ' ', 'đ', 'ờ', 'i', ' ', 'p', 'h', 'í', 'a', ' ', 't', 'r', 'ư', 'ớ', 'c', ' ', 'n', 'g', 'à', 'y', ' ', 'h', 'ô', 'm', ' ', 'n', 'a', 'y', ' ', 'c', 'o', 'n', ' ', 'đ', 'ư', 'ờ', 'n', 'g', ' ', 't', 'u', 'y', 'ế', 't', ' ', 'r', 'ơ', 'i', ' ', 'l', 'ạ', 'n', 'h', ' ', 't', 'ê', ' ', 'n', 'h', 'ư', 'n', 'g', ' ', 's', 'a', 'o', ' ', 'm', 'ì', 'n', 'h', ' ', 'a', 'n', 'h', ' ', 'b', 'ư', 'ớ', 'c', ' ', 'n', 'g', 'à', 'y', ' ', 'h', 'ô', 'm', ' ', 'q', 'u', 'a', ' ', 'n', 'ắ', 'n', 'g', ' ', 'l', 'ê', 'n', ' ', 'n', 'h', 'ư', 'n', 'g', ' ', 't', 'ì', 'm', ' ', 'e', 'm', ' ', 'k', 'h', 'ô', 'n', 'g', ' ', 't', 'h', 'ấ', 'y', ' ', 'b', 'â', 'y', ' ', 'g', 'i', 'ờ', ' ', 'b', 'ê', 'n', ' ', 'e', 'm', ' ', 'l', 'ạ', 'i', ' ', 'c', 'ó', ' ', 'a', 'i', ' ', 'l', 'à', 'm', ' ', 'c', 'h', 'o', ' ', 't', 'i', 'm', ' ', 'a', 'n', 'h', ' ', 't', 'u', 'y', 'ế', 't', ' ', 'r', 'ơ', 'i', ' ', 'đ', 'ầ', 'y'], None)\n"
          ]
        },
        {
          "output_type": "execute_result",
          "data": {
            "text/plain": [
              "800"
            ]
          },
          "metadata": {},
          "execution_count": 3
        }
      ]
    },
    {
      "cell_type": "code",
      "source": [
        "import torch\n",
        "import torchaudio\n",
        "\n",
        "from model import data_processing\n",
        "data = train_data[0]\n",
        "from model import train_audio_transforms\n",
        "\n",
        "for (waveform, _, _, phone, _) in [data]:\n",
        "    waveform = torch.Tensor(waveform)\n",
        "    spec = train_audio_transforms(waveform).squeeze(0).transpose(0, 1)\n",
        "    print(spec, phone)"
      ],
      "metadata": {
        "colab": {
          "base_uri": "https://localhost:8080/"
        },
        "id": "rfQeBRkgews9",
        "outputId": "a7a0e4ed-5eeb-453c-e58a-d0bcf3bcce25"
      },
      "execution_count": 4,
      "outputs": [
        {
          "output_type": "stream",
          "name": "stdout",
          "text": [
            "tensor([[0.0000e+00, 5.5523e-11, 1.5058e-10,  ..., 6.5165e-09, 3.8553e-08,\n",
            "         4.9053e-08],\n",
            "        [0.0000e+00, 9.0561e-06, 2.4560e-05,  ..., 1.3755e-07, 8.6429e-08,\n",
            "         2.6156e-07],\n",
            "        [0.0000e+00, 5.4379e-05, 1.4747e-04,  ..., 9.4668e-08, 8.9190e-08,\n",
            "         8.5501e-08],\n",
            "        ...,\n",
            "        [0.0000e+00, 2.1553e-04, 5.8450e-04,  ..., 3.8551e-07, 1.2415e-07,\n",
            "         1.7081e-07],\n",
            "        [0.0000e+00, 1.2451e-04, 3.3768e-04,  ..., 1.3796e-07, 2.2452e-07,\n",
            "         2.2233e-07],\n",
            "        [0.0000e+00, 1.3839e-03, 3.7530e-03,  ..., 2.3102e-07, 7.6060e-07,\n",
            "         1.0569e-06]]) ['n', 'g', 'ư', 'ờ', 'i', ' ', 'ở', ' ', 'đ', 'ó', ' ', 'a', 'n', 'h', ' ', 'ở', ' ', 'đ', 'â', 'y', ' ', 'm', 'à', ' ', 's', 'a', 'o', ' ', 't', 'r', 'á', 'i', ' ', 't', 'i', 'm', ' ', 'a', 'n', 'h', ' ', 'l', 'ạ', 'n', 'h', ' ', 'q', 'u', 'á', ' ', 'c', 'ũ', 'n', 'g', ' ', 'c', 'h', 'ỉ', ' ', 'l', 'à', ' ', 'd', 'o', ' ', 'k', 'h', 'o', 'ả', 'n', 'g', ' ', 'c', 'á', 'c', 'h', ' ', 'k', 'h', 'i', 'ế', 'n', ' ', 't', 'a', ' ', 'v', 'ô', ' ', 't', 'ì', 'n', 'h', ' ', 'l', 'ạ', 'c', ' ', 'm', 'ấ', 't', ' ', 'n', 'h', 'a', 'u', ' ', 'y', 'ê', 'u', ' ', 'x', 'a', ' ', 'k', 'h', 'ó', ' ', 'l', 'ắ', 'm', ' ', 'n', 'h', 'ớ', ' ', 't', 'h', 'ư', 'ơ', 'n', 'g', ' ', 'm', 'à', ' ', 'l', 'à', 'm', ' ', 't', 'r', 'á', 'i', ' ', 't', 'i', 'm', ' ', 'đ', 'a', 'u', ' ', 'm', 'ì', 'n', 'h', ' ', 'đ', 'ã', ' ', 'h', 'ứ', 'a', ' ', 's', 'ẽ', ' ', 'c', 'ù', 'n', 'g', ' ', 'đ', 'i', ' ', 't', 'r', 'ê', 'n', ' ', 'đ', 'ư', 'ờ', 'n', 'g', ' ', 'đ', 'ờ', 'i', ' ', 'p', 'h', 'í', 'a', ' ', 't', 'r', 'ư', 'ớ', 'c', ' ', 'n', 'g', 'à', 'y', ' ', 'h', 'ô', 'm', ' ', 'n', 'a', 'y', ' ', 'c', 'o', 'n', ' ', 'đ', 'ư', 'ờ', 'n', 'g', ' ', 't', 'u', 'y', 'ế', 't', ' ', 'r', 'ơ', 'i', ' ', 'l', 'ạ', 'n', 'h', ' ', 't', 'ê', ' ', 'n', 'h', 'ư', 'n', 'g', ' ', 's', 'a', 'o', ' ', 'm', 'ì', 'n', 'h', ' ', 'a', 'n', 'h', ' ', 'b', 'ư', 'ớ', 'c', ' ', 'n', 'g', 'à', 'y', ' ', 'h', 'ô', 'm', ' ', 'q', 'u', 'a', ' ', 'n', 'ắ', 'n', 'g', ' ', 'l', 'ê', 'n', ' ', 'n', 'h', 'ư', 'n', 'g', ' ', 't', 'ì', 'm', ' ', 'e', 'm', ' ', 'k', 'h', 'ô', 'n', 'g', ' ', 't', 'h', 'ấ', 'y', ' ', 'b', 'â', 'y', ' ', 'g', 'i', 'ờ', ' ', 'b', 'ê', 'n', ' ', 'e', 'm', ' ', 'l', 'ạ', 'i', ' ', 'c', 'ó', ' ', 'a', 'i', ' ', 'l', 'à', 'm', ' ', 'c', 'h', 'o', ' ', 't', 'i', 'm', ' ', 'a', 'n', 'h', ' ', 't', 'u', 'y', 'ế', 't', ' ', 'r', 'ơ', 'i', ' ', 'đ', 'ầ', 'y']\n"
          ]
        }
      ]
    },
    {
      "cell_type": "code",
      "source": [
        "!git pull\n",
        "!mkdir -p checkpoints temp\n",
        "!python train.py --checkpoint_dir=checkpoints --log_dir=temp --cuda"
      ],
      "metadata": {
        "colab": {
          "base_uri": "https://localhost:8080/"
        },
        "id": "uHWzDD5obA_A",
        "outputId": "0f2df075-df04-4752-ff41-aa658649fd16"
      },
      "execution_count": null,
      "outputs": [
        {
          "output_type": "stream",
          "name": "stdout",
          "text": [
            "Already up to date.\n",
            "Namespace(batch_size=16, checkpoint_dir='checkpoints', cnn_layers=1, cuda=True, dummy=False, load_model=None, log_dir='temp', loss_w=0.1, lr=0.0001, model='baseline', num_workers=1, rnn_dim=256, sr=22050)\n",
            "cuda\n",
            "AcousticModel(\n",
            "  (cnn_layers): Sequential(\n",
            "    (0): Conv2d(1, 32, kernel_size=(3, 3), stride=(1, 1), padding=(1, 1))\n",
            "    (1): ReLU()\n",
            "  )\n",
            "  (rescnn_layers): Sequential(\n",
            "    (0): ResidualCNN(\n",
            "      (cnn1): Conv2d(32, 32, kernel_size=(3, 3), stride=(1, 1), padding=(1, 1))\n",
            "      (cnn2): Conv2d(32, 32, kernel_size=(3, 3), stride=(1, 1), padding=(1, 1))\n",
            "      (dropout1): Dropout(p=0.1, inplace=False)\n",
            "      (dropout2): Dropout(p=0.1, inplace=False)\n",
            "      (layer_norm1): CNNLayerNorm(\n",
            "        (layer_norm): LayerNorm((128,), eps=1e-05, elementwise_affine=True)\n",
            "      )\n",
            "      (layer_norm2): CNNLayerNorm(\n",
            "        (layer_norm): LayerNorm((128,), eps=1e-05, elementwise_affine=True)\n",
            "      )\n",
            "    )\n",
            "  )\n",
            "  (maxpooling): MaxPool2d(kernel_size=(2, 3), stride=(2, 3), padding=0, dilation=1, ceil_mode=False)\n",
            "  (fully_connected): Linear(in_features=2048, out_features=256, bias=True)\n",
            "  (bilstm): Sequential(\n",
            "    (0): BidirectionalLSTM(\n",
            "      (BiLSTM): LSTM(256, 256, batch_first=True, bidirectional=True)\n",
            "      (dropout): Dropout(p=0.1, inplace=False)\n",
            "    )\n",
            "    (1): BidirectionalLSTM(\n",
            "      (BiLSTM): LSTM(512, 256, bidirectional=True)\n",
            "      (dropout): Dropout(p=0.1, inplace=False)\n",
            "    )\n",
            "    (2): BidirectionalLSTM(\n",
            "      (BiLSTM): LSTM(512, 256, bidirectional=True)\n",
            "      (dropout): Dropout(p=0.1, inplace=False)\n",
            "    )\n",
            "  )\n",
            "  (classifier): Sequential(\n",
            "    (0): Linear(in_features=512, out_features=41, bias=True)\n",
            "  )\n",
            ")\n",
            "Num Model Parameters 4771497\n",
            "Training one epoch from epoch 0\n",
            "Current loss: 7.2936:  34% 17/50 [00:46<01:28,  2.67s/it]"
          ]
        }
      ]
    },
    {
      "cell_type": "code",
      "source": [],
      "metadata": {
        "id": "fgplH6jceri0"
      },
      "execution_count": null,
      "outputs": []
    }
  ]
}